{
  "nbformat": 4,
  "nbformat_minor": 0,
  "metadata": {
    "colab": {
      "provenance": []
    },
    "kernelspec": {
      "name": "python3",
      "display_name": "Python 3"
    },
    "language_info": {
      "name": "python"
    }
  },
  "cells": [
    {
      "cell_type": "code",
      "source": [
        "!pip install datasets --quiet\n",
        "!pip install tqdm --quiet\n",
        "\n",
        "import re\n",
        "from datasets import load_dataset\n",
        "from collections import Counter\n",
        "from tqdm import tqdm\n",
        "\n",
        "# ------------------------------\n",
        "# 1. Load streaming dataset (Hindi - Devanagari)\n",
        "# ------------------------------\n",
        "dataset = load_dataset(\n",
        "    \"ai4bharat/IndicCorpV2\",\n",
        "    \"indiccorp_v2\",\n",
        "    split=\"hin_Deva\",\n",
        "    streaming=True\n",
        ")\n",
        "\n",
        "# ------------------------------\n",
        "# 2. Sentence tokenizer for Hindi\n",
        "# ------------------------------\n",
        "def sentence_tokenizer(text):\n",
        "    # This regex splits on common sentence-ending punctuation, handling cases with quotes or brackets before the punctuation.\n",
        "    # It also handles the Devanagari full stop (।)\n",
        "    sentence_endings = re.compile(r'(?<=[।\\.!?])\\s+(?=[\"\\'“‘()\\[\\]{}])?', re.UNICODE)\n",
        "    sentences = sentence_endings.split(text.strip())\n",
        "    # Further split by newline characters which often indicate sentence breaks in text data\n",
        "    split_by_newline = []\n",
        "    for sent in sentences:\n",
        "        split_by_newline.extend(sent.split('\\n'))\n",
        "    return [s.strip() for s in split_by_newline if s.strip()]\n",
        "\n",
        "\n",
        "# ------------------------------\n",
        "# 3. Word tokenizer (Hindi, English, numbers, URLs, emails, dates, punctuation)\n",
        "# ------------------------------\n",
        "def word_tokenizer(sentence):\n",
        "    # Updated regex to capture various token types including punctuation, URLs, emails, and dates.\n",
        "    token_pattern = re.compile(r\"\"\"\n",
        "        (?:https?:\\/\\/|www\\.)[^\\s]+ | # URLs\n",
        "        [a-zA-Z0-9._%+-]+@[a-zA-Z0-9.-]+\\.[a-zA-Z]{2,} | # Email addresses\n",
        "        \\d{1,2}[/-]\\d{1,2}[/-]\\d{2,4} | # Dates (simple format dd/mm/yyyy or dd-mm-yyyy)\n",
        "        \\d+(\\.\\d+)? |                 # Numbers (including decimals)\n",
        "        [\\u0900-\\u097F]+ |            # Hindi words\n",
        "        [a-zA-Z]+ |                   # English words\n",
        "        [^\\s\\w]                       # Punctuation (any non-whitespace, non-word character)\n",
        "    \"\"\", re.VERBOSE | re.UNICODE)\n",
        "    return [m.group() for m in token_pattern.finditer(sentence)]\n",
        "\n",
        "# ------------------------------\n",
        "# 4. Stats accumulators\n",
        "# ------------------------------\n",
        "sentence_count = 0\n",
        "word_count = 0\n",
        "char_count = 0\n",
        "vocab_counter = Counter()\n",
        "MAX_SENTENCES = 500_000  # target number of sentences\n",
        "\n",
        "# ------------------------------\n",
        "# 5. Process and save tokenized sentences and word tokens\n",
        "# ------------------------------\n",
        "with open(\"sentence_tokenized.txt\", \"w\", encoding=\"utf-8\") as f_sent, \\\n",
        "     open(\"word_tokenized.txt\", \"w\", encoding=\"utf-8\") as f_word:\n",
        "\n",
        "    for example in tqdm(dataset, total=None):  # streaming, total unknown\n",
        "        text = example[\"text\"]\n",
        "        sentences = sentence_tokenizer(text)\n",
        "\n",
        "        for s in sentences:\n",
        "            tokens = word_tokenizer(s)\n",
        "            if not tokens:\n",
        "                continue\n",
        "\n",
        "            # Write files\n",
        "            f_sent.write(\" \".join(tokens) + \"\\n\") # original sentence\n",
        "            f_word.write(\" \".join(tokens) + \"\\n\")  # tokenized sentence\n",
        "\n",
        "            # Update stats\n",
        "            sentence_count += 1\n",
        "            word_count += len(tokens)\n",
        "            char_count += sum(len(tok) for tok in tokens)\n",
        "            vocab_counter.update(tokens)\n",
        "\n",
        "            # Stop after MAX_SENTENCES\n",
        "            if sentence_count >= MAX_SENTENCES:\n",
        "                break\n",
        "        if sentence_count >= MAX_SENTENCES:\n",
        "            break\n",
        "\n",
        "# ------------------------------\n",
        "# 6. Summary statistics\n",
        "# ------------------------------\n",
        "unique_tokens = len(vocab_counter)\n",
        "ttr = unique_tokens / word_count if word_count > 0 else 0\n",
        "avg_sent_len = word_count / sentence_count if sentence_count > 0 else 0\n",
        "avg_word_len = char_count / word_count if word_count > 0 else 0\n",
        "\n",
        "print(\"===== Corpus Statistics =====\")\n",
        "print(f\"Total Sentences Processed   : {sentence_count:,}\")\n",
        "print(f\"Total Words                 : {word_count:,}\")\n",
        "print(f\"Total Characters            : {char_count:,}\")\n",
        "print(f\"Unique Tokens (Vocab Size)  : {unique_tokens:,}\")\n",
        "print(f\"Average Sentence Length     : {avg_sent_len:.2f} words\")\n",
        "print(f\"Average Word Length         : {avg_word_len:.2f} chars\")\n",
        "print(f\"Type/Token Ratio (TTR)      : {ttr:.4f}\")"
      ],
      "metadata": {
        "colab": {
          "base_uri": "https://localhost:8080/"
        },
        "id": "37VYc31Ghn3L",
        "outputId": "e9b30726-00b8-4c2c-d3b0-ddd5c5742f5e"
      },
      "execution_count": 3,
      "outputs": [
        {
          "output_type": "stream",
          "name": "stderr",
          "text": [
            "305254it [00:31, 9781.01it/s]"
          ]
        },
        {
          "output_type": "stream",
          "name": "stdout",
          "text": [
            "===== Corpus Statistics =====\n",
            "Total Sentences Processed   : 500,000\n",
            "Total Words                 : 9,393,372\n",
            "Total Characters            : 36,148,134\n",
            "Unique Tokens (Vocab Size)  : 198,544\n",
            "Average Sentence Length     : 18.79 words\n",
            "Average Word Length         : 3.85 chars\n",
            "Type/Token Ratio (TTR)      : 0.0211\n"
          ]
        },
        {
          "output_type": "stream",
          "name": "stderr",
          "text": [
            "\n"
          ]
        }
      ]
    }
  ]
}